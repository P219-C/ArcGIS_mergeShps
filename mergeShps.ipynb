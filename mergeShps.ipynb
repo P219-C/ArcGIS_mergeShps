{
 "cells": [
  {
   "cell_type": "markdown",
   "metadata": {},
   "source": [
    "# Mergin shapefiles in a folder"
   ]
  },
  {
   "cell_type": "markdown",
   "metadata": {},
   "source": [
    "## Define libraries"
   ]
  },
  {
   "cell_type": "code",
   "execution_count": 14,
   "metadata": {},
   "outputs": [],
   "source": [
    "import arcpy, os"
   ]
  },
  {
   "cell_type": "markdown",
   "metadata": {},
   "source": [
    "## Define input and output path\n",
    "<code>path_out</code>: Path where the merged shapefile lives\n",
    "\n",
    "<code>path_in</code>: Path where all individual shepafiles live"
   ]
  },
  {
   "cell_type": "code",
   "execution_count": 15,
   "metadata": {},
   "outputs": [],
   "source": [
    "path_out = r'H:\\002_SCRIPTS\\Python_Projects\\000_ArcGIS_portfolio\\DATA\\OUT'\n",
    "path_in = r'H:\\002_SCRIPTS\\Python_Projects\\000_ArcGIS_portfolio\\DATA\\IN'\n"
   ]
  },
  {
   "cell_type": "markdown",
   "metadata": {},
   "source": [
    "## Identifying all individual shps\n",
    "The following Block Of Code (BOC) iterates through the main folder and any other subfolder looking for all individual shapefiles. Then it stores the full path of the individual shapefile in a list\n",
    "\n",
    "- <code>walk</code>: Maps the main folder and all individual folders\n",
    "- <code>shplist</code>: Python list where the full path to each individual shapefile is stored"
   ]
  },
  {
   "cell_type": "code",
   "execution_count": 16,
   "metadata": {},
   "outputs": [
    {
     "name": "stdout",
     "output_type": "stream",
     "text": [
      "['H:\\\\002_SCRIPTS\\\\Python_Projects\\\\000_ArcGIS_portfolio\\\\DATA\\\\IN\\\\polygon_1\\\\polygon_1.shp', 'H:\\\\002_SCRIPTS\\\\Python_Projects\\\\000_ArcGIS_portfolio\\\\DATA\\\\IN\\\\polygon_2\\\\polygon_2.shp', 'H:\\\\002_SCRIPTS\\\\Python_Projects\\\\000_ArcGIS_portfolio\\\\DATA\\\\IN\\\\polygon_3\\\\polygon_3.shp', 'H:\\\\002_SCRIPTS\\\\Python_Projects\\\\000_ArcGIS_portfolio\\\\DATA\\\\IN\\\\polygon_4\\\\polygon_4.shp', 'H:\\\\002_SCRIPTS\\\\Python_Projects\\\\000_ArcGIS_portfolio\\\\DATA\\\\IN\\\\polygon_5\\\\polygon_5.shp']\n"
     ]
    }
   ],
   "source": [
    "arcpy.env.workspace = path_in  #change this\n",
    "walk = arcpy.da.Walk(path_in, topdown=True, datatype=\"FeatureClass\")\n",
    "\n",
    "shplist = []\n",
    "\n",
    "for folderPath, folderNames, fileNames in walk:\n",
    "    for folderName in folderNames:\n",
    "        path_tmp = os.path.join(folderPath, folderName)\n",
    "        arcpy.env.workspace = path_tmp\n",
    "        #print(folderName)\n",
    "        #print(arcpy.ListFeatureClasses('*.shp'))\n",
    "        shplist.append(path_tmp + \"\\\\\" + arcpy.ListFeatureClasses('*.shp')[0])\n",
    "        \n",
    "        \n",
    "print(shplist)"
   ]
  },
  {
   "cell_type": "markdown",
   "metadata": {},
   "source": [
    "## Merge all individual shps\n",
    "The next BOC merges all individual shapefiles listed in <code>shplist</code> and saves them in <code>portfolio.shp</code>\n",
    "This function replaces the previous shapefile but this can be modified"
   ]
  },
  {
   "cell_type": "code",
   "execution_count": 17,
   "metadata": {
    "scrolled": true
   },
   "outputs": [
    {
     "name": "stdout",
     "output_type": "stream",
     "text": [
      "done\n"
     ]
    }
   ],
   "source": [
    "arcpy.Merge_management(shplist, os.path.join(path_out, 'portfolio.shp')) # Add date and time? or just replace?\n",
    "print(\"done\")"
   ]
  },
  {
   "cell_type": "markdown",
   "metadata": {},
   "source": [
    "## Perform Join with excel table"
   ]
  },
  {
   "cell_type": "code",
   "execution_count": 19,
   "metadata": {},
   "outputs": [],
   "source": [
    "# This is extra\n",
    "# Tkinter works\n",
    "import os\n",
    "from tkinter import filedialog\n",
    "from tkinter import *\n",
    "\n",
    "\n",
    "def selectDir():\n",
    "    \"\"\"Returns path of selected folder (uses tkinter)\"\"\"\n",
    "    root = Tk()\n",
    "    root.withdraw()\n",
    "    folderPath = os.path.normpath(filedialog.askdirectory())\n",
    "    return(folderPath)\n",
    "\n",
    "test = selectDir()"
   ]
  },
  {
   "cell_type": "code",
   "execution_count": null,
   "metadata": {},
   "outputs": [],
   "source": []
  }
 ],
 "metadata": {
  "kernelspec": {
   "display_name": "ArcGISPro",
   "language": "Python",
   "name": "python3"
  },
  "language_info": {
   "file_extension": ".py",
   "name": "python",
   "version": "3"
  }
 },
 "nbformat": 4,
 "nbformat_minor": 2
}
